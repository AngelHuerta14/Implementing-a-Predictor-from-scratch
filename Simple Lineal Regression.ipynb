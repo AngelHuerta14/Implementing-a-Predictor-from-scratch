{
 "cells": [
  {
   "cell_type": "markdown",
   "id": "b1876bd8",
   "metadata": {},
   "source": [
    "# Implementing a Predictor from scratch"
   ]
  },
  {
   "cell_type": "markdown",
   "id": "b2a0f87a",
   "metadata": {},
   "source": [
    "For this project, the dataset Indicadores_municipales_sabana_DA.csv was used, which gives us the poverty indicator for each municipality, as well as other data related to the level of poverty.\n",
    "The indicator I used was the column gini_10, which gives us the number of the Gini coefficient for the year 2010 (the Gini coefficient is a number that indicates the average level of economic inequality and how big the gap is between rich and poor in an location).\n",
    "This feature is a regression problem since it attempts to predict the Gini coefficient using all the additional data in the dataset. The problem we are trying to solve is to predict the level of economic inequality in the society of each municipality in 2010."
   ]
  },
  {
   "cell_type": "markdown",
   "id": "888f45c3",
   "metadata": {},
   "source": [
    "## Programm"
   ]
  },
  {
   "cell_type": "markdown",
   "id": "6c56a831",
   "metadata": {},
   "source": [
    "The first thing to do was import the necessary libraries that we are going to use for data separation, as well as some more for programming the regression model and print the results."
   ]
  },
  {
   "cell_type": "code",
   "execution_count": 1,
   "id": "5423c1f6",
   "metadata": {},
   "outputs": [],
   "source": [
    "import numpy as np\n",
    "import pandas as pd\n",
    "from sklearn.model_selection import train_test_split\n",
    "import matplotlib.pyplot as plt\n",
    "from sklearn.preprocessing import LabelEncoder, StandardScaler\n",
    "from sklearn.impute import SimpleImputer"
   ]
  },
  {
   "cell_type": "markdown",
   "id": "13478f17",
   "metadata": {},
   "source": [
    "First we upload the dataset to the program using Pandas, and then we load it into a data frame. This is to work better with the dataset data."
   ]
  },
  {
   "cell_type": "code",
   "execution_count": 2,
   "id": "e984b49d",
   "metadata": {},
   "outputs": [
    {
     "data": {
      "text/html": [
       "<div>\n",
       "<style scoped>\n",
       "    .dataframe tbody tr th:only-of-type {\n",
       "        vertical-align: middle;\n",
       "    }\n",
       "\n",
       "    .dataframe tbody tr th {\n",
       "        vertical-align: top;\n",
       "    }\n",
       "\n",
       "    .dataframe thead th {\n",
       "        text-align: right;\n",
       "    }\n",
       "</style>\n",
       "<table border=\"1\" class=\"dataframe\">\n",
       "  <thead>\n",
       "    <tr style=\"text-align: right;\">\n",
       "      <th></th>\n",
       "      <th>ent</th>\n",
       "      <th>nom_ent</th>\n",
       "      <th>mun</th>\n",
       "      <th>clave_mun</th>\n",
       "      <th>nom_mun</th>\n",
       "      <th>pobtot_ajustada</th>\n",
       "      <th>pobreza</th>\n",
       "      <th>pobreza_e</th>\n",
       "      <th>pobreza_m</th>\n",
       "      <th>vul_car</th>\n",
       "      <th>...</th>\n",
       "      <th>pobreza_alim_10</th>\n",
       "      <th>pobreza_cap_90</th>\n",
       "      <th>pobreza_cap_00</th>\n",
       "      <th>pobreza_cap_10</th>\n",
       "      <th>pobreza_patrim_90</th>\n",
       "      <th>pobreza_patrim_00</th>\n",
       "      <th>pobreza_patrim_10</th>\n",
       "      <th>gini_90</th>\n",
       "      <th>gini_00</th>\n",
       "      <th>gini_10</th>\n",
       "    </tr>\n",
       "  </thead>\n",
       "  <tbody>\n",
       "    <tr>\n",
       "      <th>0</th>\n",
       "      <td>1</td>\n",
       "      <td>Aguascalientes</td>\n",
       "      <td>1</td>\n",
       "      <td>1001</td>\n",
       "      <td>Aguascalientes</td>\n",
       "      <td>794304</td>\n",
       "      <td>30.531104</td>\n",
       "      <td>2.264478</td>\n",
       "      <td>28.266627</td>\n",
       "      <td>27.983320</td>\n",
       "      <td>...</td>\n",
       "      <td>11.805700</td>\n",
       "      <td>20.4</td>\n",
       "      <td>12.7</td>\n",
       "      <td>18.474600</td>\n",
       "      <td>43.4</td>\n",
       "      <td>33.7</td>\n",
       "      <td>41.900398</td>\n",
       "      <td>0.473</td>\n",
       "      <td>0.425</td>\n",
       "      <td>0.422628</td>\n",
       "    </tr>\n",
       "    <tr>\n",
       "      <th>1</th>\n",
       "      <td>1</td>\n",
       "      <td>Aguascalientes</td>\n",
       "      <td>2</td>\n",
       "      <td>1002</td>\n",
       "      <td>Asientos</td>\n",
       "      <td>48592</td>\n",
       "      <td>67.111172</td>\n",
       "      <td>8.040704</td>\n",
       "      <td>59.070468</td>\n",
       "      <td>22.439389</td>\n",
       "      <td>...</td>\n",
       "      <td>21.993299</td>\n",
       "      <td>39.9</td>\n",
       "      <td>29.0</td>\n",
       "      <td>30.980801</td>\n",
       "      <td>64.2</td>\n",
       "      <td>48.9</td>\n",
       "      <td>59.175800</td>\n",
       "      <td>0.379</td>\n",
       "      <td>0.533</td>\n",
       "      <td>0.343879</td>\n",
       "    </tr>\n",
       "    <tr>\n",
       "      <th>2</th>\n",
       "      <td>1</td>\n",
       "      <td>Aguascalientes</td>\n",
       "      <td>3</td>\n",
       "      <td>1003</td>\n",
       "      <td>Calvillo</td>\n",
       "      <td>53104</td>\n",
       "      <td>61.360527</td>\n",
       "      <td>7.241238</td>\n",
       "      <td>54.119289</td>\n",
       "      <td>29.428583</td>\n",
       "      <td>...</td>\n",
       "      <td>19.266800</td>\n",
       "      <td>39.5</td>\n",
       "      <td>33.1</td>\n",
       "      <td>28.259199</td>\n",
       "      <td>63.9</td>\n",
       "      <td>57.9</td>\n",
       "      <td>56.504902</td>\n",
       "      <td>0.414</td>\n",
       "      <td>0.465</td>\n",
       "      <td>0.386781</td>\n",
       "    </tr>\n",
       "    <tr>\n",
       "      <th>3</th>\n",
       "      <td>1</td>\n",
       "      <td>Aguascalientes</td>\n",
       "      <td>4</td>\n",
       "      <td>1004</td>\n",
       "      <td>Cosío</td>\n",
       "      <td>14101</td>\n",
       "      <td>52.800458</td>\n",
       "      <td>4.769001</td>\n",
       "      <td>48.031458</td>\n",
       "      <td>27.128568</td>\n",
       "      <td>...</td>\n",
       "      <td>14.303200</td>\n",
       "      <td>35.2</td>\n",
       "      <td>21.0</td>\n",
       "      <td>22.386101</td>\n",
       "      <td>59.7</td>\n",
       "      <td>40.1</td>\n",
       "      <td>51.164501</td>\n",
       "      <td>0.392</td>\n",
       "      <td>0.541</td>\n",
       "      <td>0.344984</td>\n",
       "    </tr>\n",
       "    <tr>\n",
       "      <th>4</th>\n",
       "      <td>1</td>\n",
       "      <td>Aguascalientes</td>\n",
       "      <td>5</td>\n",
       "      <td>1005</td>\n",
       "      <td>Jesús María</td>\n",
       "      <td>101379</td>\n",
       "      <td>45.338512</td>\n",
       "      <td>6.084037</td>\n",
       "      <td>39.254475</td>\n",
       "      <td>26.262912</td>\n",
       "      <td>...</td>\n",
       "      <td>15.085100</td>\n",
       "      <td>36.6</td>\n",
       "      <td>22.6</td>\n",
       "      <td>22.139999</td>\n",
       "      <td>60.6</td>\n",
       "      <td>42.2</td>\n",
       "      <td>45.703899</td>\n",
       "      <td>0.391</td>\n",
       "      <td>0.469</td>\n",
       "      <td>0.458083</td>\n",
       "    </tr>\n",
       "  </tbody>\n",
       "</table>\n",
       "<p>5 rows × 139 columns</p>\n",
       "</div>"
      ],
      "text/plain": [
       "   ent         nom_ent  mun  clave_mun         nom_mun  pobtot_ajustada  \\\n",
       "0    1  Aguascalientes    1       1001  Aguascalientes           794304   \n",
       "1    1  Aguascalientes    2       1002        Asientos            48592   \n",
       "2    1  Aguascalientes    3       1003        Calvillo            53104   \n",
       "3    1  Aguascalientes    4       1004           Cosío            14101   \n",
       "4    1  Aguascalientes    5       1005     Jesús María           101379   \n",
       "\n",
       "     pobreza  pobreza_e  pobreza_m    vul_car  ...  pobreza_alim_10  \\\n",
       "0  30.531104   2.264478  28.266627  27.983320  ...        11.805700   \n",
       "1  67.111172   8.040704  59.070468  22.439389  ...        21.993299   \n",
       "2  61.360527   7.241238  54.119289  29.428583  ...        19.266800   \n",
       "3  52.800458   4.769001  48.031458  27.128568  ...        14.303200   \n",
       "4  45.338512   6.084037  39.254475  26.262912  ...        15.085100   \n",
       "\n",
       "   pobreza_cap_90  pobreza_cap_00  pobreza_cap_10  pobreza_patrim_90  \\\n",
       "0            20.4            12.7       18.474600               43.4   \n",
       "1            39.9            29.0       30.980801               64.2   \n",
       "2            39.5            33.1       28.259199               63.9   \n",
       "3            35.2            21.0       22.386101               59.7   \n",
       "4            36.6            22.6       22.139999               60.6   \n",
       "\n",
       "   pobreza_patrim_00  pobreza_patrim_10  gini_90  gini_00   gini_10  \n",
       "0               33.7          41.900398    0.473    0.425  0.422628  \n",
       "1               48.9          59.175800    0.379    0.533  0.343879  \n",
       "2               57.9          56.504902    0.414    0.465  0.386781  \n",
       "3               40.1          51.164501    0.392    0.541  0.344984  \n",
       "4               42.2          45.703899    0.391    0.469  0.458083  \n",
       "\n",
       "[5 rows x 139 columns]"
      ]
     },
     "execution_count": 2,
     "metadata": {},
     "output_type": "execute_result"
    }
   ],
   "source": [
    "# Ruta al archivo local\n",
    "file_path = 'C:/Users/angel/OneDrive/Desktop/Tareas/Machine Learning/Pobreza/Indicadores_municipales_sabana_DA.csv'\n",
    "\n",
    "# Cargar el conjunto de datos en un DataFrame de pandas\n",
    "df = pd.read_csv(file_path, encoding='latin-1')\n",
    "\n",
    "# Mostrar las primeras filas del DataFrame para verificar que se haya cargado correctamente\n",
    "df.head()"
   ]
  },
  {
   "cell_type": "markdown",
   "id": "c1e676bd",
   "metadata": {},
   "source": [
    "We separate the X and the Y. The (As we are doing a regression exercise, there are some features that do not interest us since they are classification, such as the position that a certain municipality occupies among other municipalities). Our Y is the feature gini_10 that we are going to work with."
   ]
  },
  {
   "cell_type": "code",
   "execution_count": 3,
   "id": "15855f1e",
   "metadata": {},
   "outputs": [],
   "source": [
    "X = df.drop(columns=['ent','nom_ent','mun','clave_mun','nom_mun','gini_10'])\n",
    "N_mun = df['nom_mun']\n",
    "y = df['gini_10']"
   ]
  },
  {
   "cell_type": "raw",
   "id": "7487db0d",
   "metadata": {},
   "source": [
    "This part of the code performs tag encoding, since some features have alphabetic data; the imputation of missing values, since there are some empty data (the strategy we use is the \"mean\", since this way it will not affect the model when training it), and the standardization of the data, thus preparing the data."
   ]
  },
  {
   "cell_type": "code",
   "execution_count": 4,
   "id": "a4c3e10e",
   "metadata": {},
   "outputs": [],
   "source": [
    "label_encoder = LabelEncoder()\n",
    "\n",
    "X['gdo_rezsoc00'] = label_encoder.fit_transform(X['gdo_rezsoc00'])\n",
    "X['gdo_rezsoc05'] = label_encoder.fit_transform(X['gdo_rezsoc05'])\n",
    "X['gdo_rezsoc10'] = label_encoder.fit_transform(X['gdo_rezsoc10'])\n",
    "\n",
    "imputer = SimpleImputer(strategy=\"mean\")\n",
    "\n",
    "X_imputed = imputer.fit_transform(X)\n",
    "\n",
    "scaler = StandardScaler()\n",
    "X_scaler = scaler.fit_transform(X_imputed)"
   ]
  },
  {
   "cell_type": "markdown",
   "id": "9820826f",
   "metadata": {},
   "source": [
    "We separate the X and Y data on a scale of 80/20"
   ]
  },
  {
   "cell_type": "code",
   "execution_count": 5,
   "id": "3f996ef6",
   "metadata": {
    "scrolled": true
   },
   "outputs": [],
   "source": [
    "X_train, X_test, Y_train, Y_test = train_test_split(X_scaler, y, test_size=0.2, random_state=42)"
   ]
  },
  {
   "cell_type": "markdown",
   "id": "07e7639c",
   "metadata": {},
   "source": [
    "We define the calculate error function, which calculates the distance between the predicted data and the actual data."
   ]
  },
  {
   "cell_type": "code",
   "execution_count": 6,
   "id": "19bc6790",
   "metadata": {},
   "outputs": [],
   "source": [
    "def calcular_error(y_true, y_pred):\n",
    "    return np.mean((y_true - y_pred) ** 2)"
   ]
  },
  {
   "cell_type": "markdown",
   "id": "964ed128",
   "metadata": {},
   "source": [
    "We now define the gradient descent function as our prediction model. This function has a for which will do the prediction calculations, find the errors using the function established above, store these errors (this is for something we will do later), calculate the weight and bias gradients and finally update these weights and biases."
   ]
  },
  {
   "cell_type": "code",
   "execution_count": 12,
   "id": "92377c72",
   "metadata": {},
   "outputs": [],
   "source": [
    "def descenso_gradiente(X, y, X_test, y_test, learning_rate=0.001, epochs=10000):\n",
    "    num_muestras, num_caracteristicas = X.shape\n",
    "    pesos = np.zeros(num_caracteristicas)\n",
    "    sesgo = 0\n",
    "    \n",
    "    errores_entrenamiento = []  # Almacenar errores durante el entrenamiento\n",
    "    errores_prueba = []  # Almacenar errores en el conjunto de prueba\n",
    "    \n",
    "    for _ in range(epochs):\n",
    "        # Calcular predicciones\n",
    "        predicciones = np.dot(X, pesos) + sesgo\n",
    "        predicciones_test = np.dot(X_test, pesos) + sesgo\n",
    "        \n",
    "        # Calcular el error en el conjunto de entrenamiento y prueba\n",
    "        error_entrenamiento = calcular_error(y, predicciones)\n",
    "        error_prueba = calcular_error(y_test, predicciones_test)\n",
    "        \n",
    "        # Almacenar errores\n",
    "        errores_entrenamiento.append(error_entrenamiento)\n",
    "        errores_prueba.append(error_prueba)\n",
    "        \n",
    "        # Calcular gradientes\n",
    "        gradientes_pesos = -(1/num_muestras) * np.dot(X.T, (y - predicciones))\n",
    "        gradiente_sesgo = -(1/num_muestras) * np.sum(y - predicciones)\n",
    "        \n",
    "        # Actualizar pesos y sesgo usando el descenso del gradiente\n",
    "        pesos -= learning_rate * gradientes_pesos\n",
    "        sesgo -= learning_rate * gradiente_sesgo\n",
    "    \n",
    "    return pesos, sesgo, errores_entrenamiento, errores_prueba"
   ]
  },
  {
   "cell_type": "markdown",
   "id": "10b0a5f8",
   "metadata": {},
   "source": [
    "Here we train our model by entering the data from our training and testing Xs and our training and testing Ys into the gradient descent function."
   ]
  },
  {
   "cell_type": "code",
   "execution_count": 13,
   "id": "3f8b17ab",
   "metadata": {
    "scrolled": true
   },
   "outputs": [],
   "source": [
    "pesos, sesgo, errores_entrenamiento, errores_prueba = descenso_gradiente(X_train, Y_train, X_test, Y_test)"
   ]
  },
  {
   "cell_type": "markdown",
   "id": "551c5c4d",
   "metadata": {},
   "source": [
    "In order to see if our model trained well, we look to obtain its mean square error. To do this we take our predictions and, using the calcular_error function, we compare them with our test data. The closer it is to 0, it means it is well trained."
   ]
  },
  {
   "cell_type": "code",
   "execution_count": 14,
   "id": "6fa956cd",
   "metadata": {},
   "outputs": [
    {
     "name": "stdout",
     "output_type": "stream",
     "text": [
      "Error Cuadrático Medio: 0.0006522538701210831\n"
     ]
    }
   ],
   "source": [
    "y_pred = np.dot(X_test, pesos) + sesgo\n",
    "\n",
    "mse = calcular_error(Y_test, y_pred)\n",
    "\n",
    "print(f\"Error Cuadrático Medio: {mse}\")"
   ]
  },
  {
   "cell_type": "markdown",
   "id": "be14a275",
   "metadata": {},
   "source": [
    "And to check our results, we take a random municipality, and compare its predicted data with the actual data."
   ]
  },
  {
   "cell_type": "code",
   "execution_count": 15,
   "id": "af15fe0e",
   "metadata": {},
   "outputs": [
    {
     "name": "stdout",
     "output_type": "stream",
     "text": [
      "Para el municipio Comala, se predice que el coeficiente de Gini para el 2010 es de 0.42341684321634804. El valor actual de desigualdad es 0.404218495.\n"
     ]
    }
   ],
   "source": [
    "import random\n",
    "    \n",
    "indice_aleatorio = random.choice(range(len(Y_test)))\n",
    "\n",
    "nombre_municipio = N_mun.iloc[indice_aleatorio]\n",
    "prediccion_desigualdad = y_pred[indice_aleatorio]\n",
    "desigualdad_actual = Y_test.iloc[indice_aleatorio]\n",
    "\n",
    "print(f\"Para el municipio {nombre_municipio}, se predice que el coeficiente de Gini para el 2010 es de {prediccion_desigualdad}. El valor actual de desigualdad es {desigualdad_actual}.\")"
   ]
  },
  {
   "cell_type": "markdown",
   "id": "958427fa",
   "metadata": {},
   "source": [
    "And finally we graph the results, to see how our testing data is dispersed and how our model cuts through the data right in the middle."
   ]
  },
  {
   "cell_type": "code",
   "execution_count": 16,
   "id": "4015b675",
   "metadata": {},
   "outputs": [
    {
     "data": {
      "image/png": "[encoded data removed]",
      "text/plain": [
       "<Figure size 1000x600 with 1 Axes>"
      ]
     },
     "metadata": {},
     "output_type": "display_data"
    }
   ],
   "source": [
    "# Graficar los resultados\n",
    "plt.figure(figsize=(10, 6))\n",
    "plt.scatter(Y_test, y_pred, color='blue', label='Valores Reales vs Predicciones')\n",
    "plt.plot([Y_test.min(), Y_test.max()], [Y_test.min(), Y_test.max()], linewidth=2, color='red', linestyle='--', label='Línea de Regresión')\n",
    "plt.xlabel('Valores Reales')\n",
    "plt.ylabel('Predicciones')\n",
    "plt.title('Resultados de la Regresión Lineal')\n",
    "plt.legend()\n",
    "plt.show()"
   ]
  },
  {
   "cell_type": "code",
   "execution_count": null,
   "id": "aef5b877",
   "metadata": {},
   "outputs": [],
   "source": []
  }
 ],
 "metadata": {
  "kernelspec": {
   "display_name": "Python 3 (ipykernel)",
   "language": "python",
   "name": "python3"
  },
  "language_info": {
   "codemirror_mode": {
    "name": "ipython",
    "version": 3
   },
   "file_extension": ".py",
   "mimetype": "text/x-python",
   "name": "python",
   "nbconvert_exporter": "python",
   "pygments_lexer": "ipython3",
   "version": "3.11.4"
  }
 },
 "nbformat": 4,
 "nbformat_minor": 5
}
